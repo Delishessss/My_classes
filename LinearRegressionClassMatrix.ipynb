{
 "cells": [
  {
   "cell_type": "code",
   "execution_count": null,
   "metadata": {},
   "outputs": [],
   "source": [
    "import numpy as np\n",
    "\n",
    "class MyLinearRegressionClass:\n",
    "    def __init__(self):\n",
    "        self.coef = None # Веса модели\n",
    "\n",
    "    def fit(self, X, y):\n",
    "        X = np.c_[np.ones(X.shape[0]), X] # Добавляем фиктивный признак\n",
    "        self.coef = np.linalg.pinv(X.T @ X) @ X.T @ y # Используем псевдообратную матрицу\n",
    "\n",
    "    def predict(self, X):\n",
    "        X = np.c_[np.ones(X.shape[0]), X]  # Добавляем фиктивный признак\n",
    "        return X @ self.coef # Матричное умножение"
   ]
  }
 ],
 "metadata": {
  "kernelspec": {
   "display_name": ".venv",
   "language": "python",
   "name": "python3"
  },
  "language_info": {
   "name": "python",
   "version": "3.10.12"
  }
 },
 "nbformat": 4,
 "nbformat_minor": 2
}
